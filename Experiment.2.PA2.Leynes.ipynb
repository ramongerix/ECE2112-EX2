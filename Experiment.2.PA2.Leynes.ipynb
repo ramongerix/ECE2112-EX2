{
 "cells": [
  {
   "cell_type": "markdown",
   "id": "d5878993-897e-4917-a75b-0d0755006f56",
   "metadata": {},
   "source": [
    "Experiment 2 (PA2) - Numerical Python [NUMPY]"
   ]
  },
  {
   "cell_type": "code",
   "execution_count": 70,
   "id": "cd5f8976-3c86-49c2-95cc-ef280dad34a7",
   "metadata": {},
   "outputs": [],
   "source": [
    "#to grant access to the NumPy library\n",
    "import numpy as np"
   ]
  },
  {
   "cell_type": "markdown",
   "id": "ed5700ec-69f3-4efa-aad5-165e1347976e",
   "metadata": {},
   "source": [
    "01 - Normalization Problem "
   ]
  },
  {
   "cell_type": "code",
   "execution_count": 12,
   "id": "863226d3-e795-41d2-aa35-9030c46cc054",
   "metadata": {},
   "outputs": [],
   "source": [
    "#creates a random 5 x 5 ndarray\n",
    "X = np.random.random ((5,5))"
   ]
  },
  {
   "cell_type": "code",
   "execution_count": 64,
   "id": "b6e9e7fa-8c24-4ad3-b354-8eb9d428bf91",
   "metadata": {},
   "outputs": [
    {
     "name": "stdout",
     "output_type": "stream",
     "text": [
      "The normalized NumPy array has been saved as ‘X_normalized.npy’.\n"
     ]
    }
   ],
   "source": [
    "#normalize the ndaaray using the formula\n",
    "mean = X.mean(axis=0) #calculates the mean along the columns  \n",
    "std = X.std(axis=0) #calculates the standard deviation along the columns\n",
    "X_normalized = (X - mean) / std #formula to calculate\n",
    "\n",
    "#saving the noramlized ndarray data as 'X_normalized.npy'\n",
    "np.save('X_normalized.npy', X_normalized)\n",
    "\n",
    "print(\"The normalized NumPy array has been saved as ‘X_normalized.npy’.\")"
   ]
  },
  {
   "cell_type": "code",
   "execution_count": 58,
   "id": "ccb4eca0-6ab6-4d2b-9d23-59f7ce3ae1ef",
   "metadata": {},
   "outputs": [
    {
     "data": {
      "text/plain": [
       "array([[-0.96519136,  1.09142346, -1.60819148,  0.68074115, -1.72774606],\n",
       "       [ 0.78359563,  1.0033999 ,  1.20340592,  0.07694417,  0.99752835],\n",
       "       [ 0.75610984, -0.64731721, -0.06824149,  1.31097348, -0.12440066],\n",
       "       [-1.45294316, -1.54085982,  0.88805023, -1.61413325, -0.13800883],\n",
       "       [ 0.87842905,  0.09335368, -0.41502318, -0.45452554,  0.99262721]])"
      ]
     },
     "execution_count": 58,
     "metadata": {},
     "output_type": "execute_result"
    }
   ],
   "source": [
    "#to display the normalized NumPY (ndarray) run this cell\n",
    "data = np.load('X_normalized.npy')\n",
    "data"
   ]
  },
  {
   "cell_type": "markdown",
   "id": "6441ffef-1495-46d8-9bd9-c53d8fda68f5",
   "metadata": {},
   "source": [
    "02 - Divisible by 3 Problem"
   ]
  },
  {
   "cell_type": "code",
   "execution_count": 108,
   "id": "d129de9c-1342-4f79-b860-fb2659579b5f",
   "metadata": {},
   "outputs": [
    {
     "name": "stdout",
     "output_type": "stream",
     "text": [
      "The elements divisible by 3 within the first 100 positive integers have been saved as ‘div_by_3.npy’.\n"
     ]
    }
   ],
   "source": [
    "#generates 10 x 10 ndarray with a squares of first 100 positive int\n",
    "\n",
    "squares = np.arange(1, 101)**2\n",
    "sqaures_reshape = squares.reshape(10, 10)\n",
    "\n",
    "#look for the elements in the ndarray that are divisible by 3\n",
    "div_by_3 = sqaures_reshape[squares_reshape % 3 == 0]\n",
    "\n",
    "#saving the elements that are divisible by 3 ndarray data as 'div_by_3.npy'\n",
    "np.save('div_by_3.npy', div_by_3)\n",
    "\n",
    "print(\"The elements divisible by 3 within the first 100 positive integers have been saved as ‘div_by_3.npy’.\")"
   ]
  },
  {
   "cell_type": "code",
   "execution_count": 112,
   "id": "2f3eec76-4b22-464c-85c3-0a3ddf61aaa1",
   "metadata": {},
   "outputs": [
    {
     "data": {
      "text/plain": [
       "array([   9,   36,   81,  144,  225,  324,  441,  576,  729,  900, 1089,\n",
       "       1296, 1521, 1764, 2025, 2304, 2601, 2916, 3249, 3600, 3969, 4356,\n",
       "       4761, 5184, 5625, 6084, 6561, 7056, 7569, 8100, 8649, 9216, 9801])"
      ]
     },
     "execution_count": 112,
     "metadata": {},
     "output_type": "execute_result"
    }
   ],
   "source": [
    "#to display the stored results run this cell\n",
    "data = np.load('div_by_3.npy')\n",
    "data"
   ]
  }
 ],
 "metadata": {
  "kernelspec": {
   "display_name": "Python 3 (ipykernel)",
   "language": "python",
   "name": "python3"
  },
  "language_info": {
   "codemirror_mode": {
    "name": "ipython",
    "version": 3
   },
   "file_extension": ".py",
   "mimetype": "text/x-python",
   "name": "python",
   "nbconvert_exporter": "python",
   "pygments_lexer": "ipython3",
   "version": "3.12.4"
  }
 },
 "nbformat": 4,
 "nbformat_minor": 5
}
